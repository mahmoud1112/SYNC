{
  "nbformat": 4,
  "nbformat_minor": 0,
  "metadata": {
    "colab": {
      "private_outputs": true,
      "provenance": []
    },
    "kernelspec": {
      "name": "python3",
      "display_name": "Python 3"
    },
    "language_info": {
      "name": "python"
    },
    "accelerator": "GPU",
    "gpuClass": "standard"
  },
  "cells": [
    {
      "cell_type": "code",
      "execution_count": null,
      "metadata": {
        "id": "bsy8N6AISa8_"
      },
      "outputs": [],
      "source": [
        "import os \n",
        "import pathlib \n",
        "import numpy as np\n",
        "import pandas as pd\n",
        "import matplotlib.pyplot as plt \n",
        "import matplotlib.image as mpimg\n",
        "import random\n",
        "import cv2\n",
        "import tensorflow as tf\n",
        "from sklearn.model_selection import train_test_split\n",
        "from tensorflow.keras.models import Sequential\n",
        "from tensorflow.keras.models import Model\n",
        "from tensorflow.keras.layers import Dense, Activation, Conv2D, MaxPool2D, Flatten, Dropout, BatchNormalization\n",
        "from tensorflow.keras.callbacks import EarlyStopping\n",
        "\n",
        "from google.colab import files\n",
        "from sklearn.metrics import classification_report,confusion_matrix"
      ]
    },
    {
      "cell_type": "code",
      "source": [
        "files.upload()"
      ],
      "metadata": {
        "id": "CDayMrq3zAqY"
      },
      "execution_count": null,
      "outputs": []
    },
    {
      "cell_type": "code",
      "source": [
        "os.environ[\"KAGGLE_CONFIG_DIR\"] = \"/content\""
      ],
      "metadata": {
        "id": "4IkPOJZfzhPT"
      },
      "execution_count": null,
      "outputs": []
    },
    {
      "cell_type": "code",
      "source": [
        "!kaggle datasets download -d prithwirajmitra/covid-face-mask-detection-dataset"
      ],
      "metadata": {
        "id": "X8q4PNoKzrU-"
      },
      "execution_count": null,
      "outputs": []
    },
    {
      "cell_type": "code",
      "source": [
        "!unzip \\*.zip"
      ],
      "metadata": {
        "id": "px8AoB8NzvRt"
      },
      "execution_count": null,
      "outputs": []
    },
    {
      "cell_type": "code",
      "source": [
        "for dirpath,dirnames,filenames in os.walk(\"/content/New Masks Dataset\"):\n",
        "    print(f\"there are {len(dirnames)} directories and {len(filenames)} images in '{dirpath}'.\")"
      ],
      "metadata": {
        "id": "J-7oTeHgz1JR"
      },
      "execution_count": null,
      "outputs": []
    },
    {
      "cell_type": "code",
      "source": [
        "def view_image(target_dir, target_class):\n",
        "    target_folder = target_dir+target_class\n",
        "    random_image = random.sample(os.listdir(target_folder),1)\n",
        "    print(random_image)\n",
        "    img = mpimg.imread(target_folder+\"/\"+ random_image[0])\n",
        "    plt.imshow(img)\n",
        "    plt.title(target_class)\n",
        "    plt.axis(\"off\")\n",
        "    print(f\"image shape {img.shape}\")\n",
        "    \n",
        "    return img"
      ],
      "metadata": {
        "id": "Af5N2WuUz6-r"
      },
      "execution_count": null,
      "outputs": []
    },
    {
      "cell_type": "code",
      "source": [
        "img = view_image(\"/content/New Masks Dataset/Train/\",\"Non Mask\")"
      ],
      "metadata": {
        "id": "93OQ9tu-z-p7"
      },
      "execution_count": null,
      "outputs": []
    },
    {
      "cell_type": "code",
      "source": [
        "img = view_image(\"/content/New Masks Dataset/Train/\",\"Mask\")"
      ],
      "metadata": {
        "id": "ViFvZTCD0CDE"
      },
      "execution_count": null,
      "outputs": []
    },
    {
      "cell_type": "code",
      "source": [
        "data=[]\n",
        "labels=[]\n",
        "no_mask=os.listdir(\"/content/New Masks Dataset/Train/Non Mask/\")\n",
        "for a in no_mask:\n",
        "\n",
        "    image = cv2.imread(\"/content/New Masks Dataset/Train/Non Mask/\"+a,)\n",
        "    image = cv2.resize(image, (224, 224))\n",
        "\n",
        "\n",
        "    data.append(image)\n",
        "    labels.append(0)\n",
        "\n",
        "no_mask=os.listdir(\"/content/New Masks Dataset/Test/Non Mask/\")\n",
        "for a in no_mask:\n",
        "\n",
        "    image = cv2.imread(\"/content/New Masks Dataset/Test/Non Mask/\"+a,)\n",
        "    image = cv2.resize(image, (224, 224))\n",
        "\n",
        "\n",
        "    data.append(image)\n",
        "    labels.append(0)"
      ],
      "metadata": {
        "id": "hDqvTfFd0Fqn"
      },
      "execution_count": null,
      "outputs": []
    },
    {
      "cell_type": "code",
      "source": [
        "mask=os.listdir(\"/content/New Masks Dataset/Train/Mask/\")\n",
        "for a in mask:\n",
        "\n",
        "    image = cv2.imread(\"/content/New Masks Dataset/Train/Mask/\"+a,)\n",
        "    image = cv2.resize(image, (224, 224))\n",
        "\n",
        "\n",
        "    data.append(image)\n",
        "    labels.append(1)\n",
        "\n",
        "\n",
        "mask=os.listdir(\"/content/New Masks Dataset/Test/Mask/\")\n",
        "for a in mask:\n",
        "\n",
        "    image = cv2.imread(\"/content/New Masks Dataset/Test/Mask/\"+a,)\n",
        "    image = cv2.resize(image, (224, 224))\n",
        "\n",
        "\n",
        "    data.append(image)\n",
        "    labels.append(1)"
      ],
      "metadata": {
        "id": "OabyheG80Jel"
      },
      "execution_count": null,
      "outputs": []
    },
    {
      "cell_type": "code",
      "source": [
        "data = np.array(data) / 255.0\n",
        "labels = np.array(labels)"
      ],
      "metadata": {
        "id": "fn8d_gCJ0N49"
      },
      "execution_count": null,
      "outputs": []
    },
    {
      "cell_type": "code",
      "source": [
        "data.shape"
      ],
      "metadata": {
        "id": "83MFiVX60Qpx"
      },
      "execution_count": null,
      "outputs": []
    },
    {
      "cell_type": "code",
      "source": [
        "X_train, X_test, y_train, y_test = train_test_split(data, labels, test_size=0.1, random_state=42,shuffle=True,\n",
        "                                                    stratify = labels)"
      ],
      "metadata": {
        "id": "01E8OR3S0TLk"
      },
      "execution_count": null,
      "outputs": []
    },
    {
      "cell_type": "code",
      "source": [
        "base_model = tf.keras.applications.MobileNet(input_shape=[224,224,3], weights = \"imagenet\", include_top=False)\n",
        "\n",
        "base_model.trainable = False\n",
        "\n",
        "# for layer in base_model.layers[30:]:\n",
        "#   layer.trainable = False\n",
        "    \n",
        "\n",
        "model = Flatten()(base_model.output)\n",
        "model = Dense(units=256, activation=\"relu\")(model)\n",
        "model = Dense(units=64, activation=\"relu\")(model)\n",
        "prediction_layer = Dense(units=1, activation=\"sigmoid\")(model)\n",
        "\n",
        "model = Model(inputs = base_model.input, outputs = prediction_layer)\n",
        "model.compile(optimizer='SGD',loss='binary_crossentropy',metrics=['accuracy'])"
      ],
      "metadata": {
        "id": "gsKLgwHw0WcB"
      },
      "execution_count": null,
      "outputs": []
    },
    {
      "cell_type": "code",
      "source": [
        "model.fit(X_train, y_train, epochs=15,validation_split= 0.1, batch_size=32)"
      ],
      "metadata": {
        "id": "j5fzwosa0byF"
      },
      "execution_count": null,
      "outputs": []
    },
    {
      "cell_type": "code",
      "source": [
        "predictions = model.predict(X_test)\n",
        "\n",
        "predict=[]\n",
        "\n",
        "for i in range(len(predictions)):\n",
        "    if predictions[i][0]>0.5:\n",
        "        predict.append(1)\n",
        "    else:\n",
        "        predict.append(0)"
      ],
      "metadata": {
        "id": "U7AxM8jH0hn3"
      },
      "execution_count": null,
      "outputs": []
    },
    {
      "cell_type": "code",
      "source": [
        "pd.DataFrame(confusion_matrix(y_test, predict), columns= [\"No Mask\", \"Mask\"], index = [\"No Mask\", \"Mask\"])"
      ],
      "metadata": {
        "id": "grfol3ec0i6W"
      },
      "execution_count": null,
      "outputs": []
    },
    {
      "cell_type": "code",
      "source": [
        "model_name = \"/content/mask_detection_best.h5\"\n",
        "tf.keras.models.save_model(model, model_name)"
      ],
      "metadata": {
        "id": "HSMaAs5G0mSh"
      },
      "execution_count": null,
      "outputs": []
    }
  ]
}